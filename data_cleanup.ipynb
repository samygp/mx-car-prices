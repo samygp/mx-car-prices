{
 "cells": [
  {
   "cell_type": "code",
   "execution_count": 1,
   "metadata": {},
   "outputs": [],
   "source": [
    "import pandas as pd\n",
    "import re\n",
    "import unidecode"
   ]
  },
  {
   "cell_type": "code",
   "execution_count": 2,
   "metadata": {},
   "outputs": [],
   "source": [
    "df = pd.read_csv(\"./carros_raw.csv\", index_col=0)"
   ]
  },
  {
   "cell_type": "code",
   "execution_count": 3,
   "metadata": {},
   "outputs": [],
   "source": [
    "#Reemplazar todo lo que no sea \n",
    "df['km'] = [re.sub(r'\\D*','', str(x)) for x in df['km']]"
   ]
  },
  {
   "cell_type": "code",
   "execution_count": 4,
   "metadata": {},
   "outputs": [],
   "source": [
    "#Eliminar carros con kilometraje vacío\n",
    "df = df[df['km'] != '']\n",
    "df.km = df.km.apply(int)"
   ]
  },
  {
   "cell_type": "code",
   "execution_count": 5,
   "metadata": {},
   "outputs": [],
   "source": [
    "columnas = ['model', 'brand', 'version']\n",
    "\n",
    "for c in columnas:\n",
    "    df[c] = df[c].apply(lambda x: unidecode.unidecode(x).strip().lower())"
   ]
  },
  {
   "cell_type": "code",
   "execution_count": 6,
   "metadata": {},
   "outputs": [
    {
     "data": {
      "text/html": [
       "<div>\n",
       "<style scoped>\n",
       "    .dataframe tbody tr th:only-of-type {\n",
       "        vertical-align: middle;\n",
       "    }\n",
       "\n",
       "    .dataframe tbody tr th {\n",
       "        vertical-align: top;\n",
       "    }\n",
       "\n",
       "    .dataframe thead th {\n",
       "        text-align: right;\n",
       "    }\n",
       "</style>\n",
       "<table border=\"1\" class=\"dataframe\">\n",
       "  <thead>\n",
       "    <tr style=\"text-align: right;\">\n",
       "      <th></th>\n",
       "      <th>url</th>\n",
       "      <th>brand</th>\n",
       "      <th>model</th>\n",
       "      <th>version</th>\n",
       "      <th>year</th>\n",
       "      <th>km</th>\n",
       "      <th>price</th>\n",
       "    </tr>\n",
       "  </thead>\n",
       "  <tbody>\n",
       "    <tr>\n",
       "      <th>0</th>\n",
       "      <td>/clasificados/usados/ford/ikon/ambiente-ac/176...</td>\n",
       "      <td>ford</td>\n",
       "      <td>ikon</td>\n",
       "      <td>ambiente ac</td>\n",
       "      <td>2001</td>\n",
       "      <td>123467</td>\n",
       "      <td>31500</td>\n",
       "    </tr>\n",
       "    <tr>\n",
       "      <th>1</th>\n",
       "      <td>/clasificados/usados/ford/focus/lx/17824644</td>\n",
       "      <td>ford</td>\n",
       "      <td>focus</td>\n",
       "      <td>lx</td>\n",
       "      <td>2000</td>\n",
       "      <td>140000</td>\n",
       "      <td>33000</td>\n",
       "    </tr>\n",
       "    <tr>\n",
       "      <th>2</th>\n",
       "      <td>/clasificados/usados/ford/sable/ls-premium/177...</td>\n",
       "      <td>ford</td>\n",
       "      <td>sable</td>\n",
       "      <td>ls premium</td>\n",
       "      <td>2001</td>\n",
       "      <td>145630</td>\n",
       "      <td>33000</td>\n",
       "    </tr>\n",
       "    <tr>\n",
       "      <th>3</th>\n",
       "      <td>/clasificados/usados/chevrolet/chevy-sedan/16l...</td>\n",
       "      <td>chevrolet</td>\n",
       "      <td>chevy sedan</td>\n",
       "      <td>1.6l monza</td>\n",
       "      <td>2001</td>\n",
       "      <td>147500</td>\n",
       "      <td>35000</td>\n",
       "    </tr>\n",
       "    <tr>\n",
       "      <th>4</th>\n",
       "      <td>/clasificados/usados/ford/focus/ambiente/17836320</td>\n",
       "      <td>ford</td>\n",
       "      <td>focus</td>\n",
       "      <td>ambiente</td>\n",
       "      <td>2001</td>\n",
       "      <td>219143</td>\n",
       "      <td>35000</td>\n",
       "    </tr>\n",
       "  </tbody>\n",
       "</table>\n",
       "</div>"
      ],
      "text/plain": [
       "                                                 url      brand        model  \\\n",
       "0  /clasificados/usados/ford/ikon/ambiente-ac/176...       ford         ikon   \n",
       "1        /clasificados/usados/ford/focus/lx/17824644       ford        focus   \n",
       "2  /clasificados/usados/ford/sable/ls-premium/177...       ford        sable   \n",
       "3  /clasificados/usados/chevrolet/chevy-sedan/16l...  chevrolet  chevy sedan   \n",
       "4  /clasificados/usados/ford/focus/ambiente/17836320       ford        focus   \n",
       "\n",
       "       version  year      km  price  \n",
       "0  ambiente ac  2001  123467  31500  \n",
       "1           lx  2000  140000  33000  \n",
       "2   ls premium  2001  145630  33000  \n",
       "3   1.6l monza  2001  147500  35000  \n",
       "4     ambiente  2001  219143  35000  "
      ]
     },
     "execution_count": 6,
     "metadata": {},
     "output_type": "execute_result"
    }
   ],
   "source": [
    "df.head()"
   ]
  },
  {
   "cell_type": "code",
   "execution_count": 7,
   "metadata": {
    "scrolled": true
   },
   "outputs": [],
   "source": [
    "df.to_csv('carros_clean.csv')"
   ]
  }
 ],
 "metadata": {
  "kernelspec": {
   "display_name": "Python 3",
   "language": "python",
   "name": "python3"
  },
  "language_info": {
   "codemirror_mode": {
    "name": "ipython",
    "version": 3
   },
   "file_extension": ".py",
   "mimetype": "text/x-python",
   "name": "python",
   "nbconvert_exporter": "python",
   "pygments_lexer": "ipython3",
   "version": "3.7.2"
  }
 },
 "nbformat": 4,
 "nbformat_minor": 4
}
