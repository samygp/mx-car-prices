{
 "cells": [
  {
   "cell_type": "markdown",
   "metadata": {},
   "source": [
    "# Producir dataset para entrenamiento"
   ]
  },
  {
   "cell_type": "markdown",
   "metadata": {},
   "source": [
    "### Nota Importante\n",
    "\n",
    "Los datos recopilados fueron obtenidos durante Febrero de 2020, los precios, el kilometraje y el listado de vehículos es altamente probable que hayan cambiado desde entonces por el uso que hayan dado a cada vehículo, las ventas que se hayan concretado, vehículos nuevos anunciados y/o por factores macroeconómicos que impacten a México."
   ]
  },
  {
   "cell_type": "markdown",
   "metadata": {},
   "source": [
    "## Análisis preliminar\n",
    "\n",
    "Antes de decidir qué información utilizar para predecir el precio de un auto, hace falta analizar qué información se tiene."
   ]
  },
  {
   "cell_type": "code",
   "execution_count": 1,
   "metadata": {},
   "outputs": [],
   "source": [
    "#Importar pandas para cargar datos\n",
    "import pandas as pd"
   ]
  },
  {
   "cell_type": "code",
   "execution_count": 2,
   "metadata": {},
   "outputs": [],
   "source": [
    "#Leer archivo CSV.\n",
    "#Eliminar columna de URL. Esta columna es exclusivamente para hacer referencia\n",
    "#al anuncio original y es única para cada auto, por lo que no nos dice nada\n",
    "#que pueda ayudar al algoritmo a generalizar cómo predecir el precio.\n",
    "df = pd.read_csv(\"./carros_clean.csv\", index_col=0).drop(['url'], axis=1)"
   ]
  },
  {
   "cell_type": "code",
   "execution_count": 3,
   "metadata": {},
   "outputs": [
    {
     "data": {
      "text/html": [
       "<div>\n",
       "<style scoped>\n",
       "    .dataframe tbody tr th:only-of-type {\n",
       "        vertical-align: middle;\n",
       "    }\n",
       "\n",
       "    .dataframe tbody tr th {\n",
       "        vertical-align: top;\n",
       "    }\n",
       "\n",
       "    .dataframe thead th {\n",
       "        text-align: right;\n",
       "    }\n",
       "</style>\n",
       "<table border=\"1\" class=\"dataframe\">\n",
       "  <thead>\n",
       "    <tr style=\"text-align: right;\">\n",
       "      <th></th>\n",
       "      <th>brand</th>\n",
       "      <th>model</th>\n",
       "      <th>version</th>\n",
       "      <th>year</th>\n",
       "      <th>km</th>\n",
       "      <th>price</th>\n",
       "    </tr>\n",
       "  </thead>\n",
       "  <tbody>\n",
       "    <tr>\n",
       "      <th>0</th>\n",
       "      <td>Ford</td>\n",
       "      <td>Ikon</td>\n",
       "      <td>Ambiente Ac</td>\n",
       "      <td>2001</td>\n",
       "      <td>123467</td>\n",
       "      <td>31500</td>\n",
       "    </tr>\n",
       "    <tr>\n",
       "      <th>1</th>\n",
       "      <td>Ford</td>\n",
       "      <td>Focus</td>\n",
       "      <td>LX</td>\n",
       "      <td>2000</td>\n",
       "      <td>140000</td>\n",
       "      <td>33000</td>\n",
       "    </tr>\n",
       "    <tr>\n",
       "      <th>2</th>\n",
       "      <td>Ford</td>\n",
       "      <td>Sable</td>\n",
       "      <td>LS Premium</td>\n",
       "      <td>2001</td>\n",
       "      <td>145630</td>\n",
       "      <td>33000</td>\n",
       "    </tr>\n",
       "    <tr>\n",
       "      <th>3</th>\n",
       "      <td>Chevrolet</td>\n",
       "      <td>Chevy Sedán</td>\n",
       "      <td>1.6L Monza</td>\n",
       "      <td>2001</td>\n",
       "      <td>147500</td>\n",
       "      <td>35000</td>\n",
       "    </tr>\n",
       "    <tr>\n",
       "      <th>4</th>\n",
       "      <td>Ford</td>\n",
       "      <td>Focus</td>\n",
       "      <td>Ambiente</td>\n",
       "      <td>2001</td>\n",
       "      <td>219143</td>\n",
       "      <td>35000</td>\n",
       "    </tr>\n",
       "    <tr>\n",
       "      <th>...</th>\n",
       "      <td>...</td>\n",
       "      <td>...</td>\n",
       "      <td>...</td>\n",
       "      <td>...</td>\n",
       "      <td>...</td>\n",
       "      <td>...</td>\n",
       "    </tr>\n",
       "    <tr>\n",
       "      <th>12808</th>\n",
       "      <td>Suzuki</td>\n",
       "      <td>Ignis</td>\n",
       "      <td>5P GLX 1.2L TM5 A/AC. AUT. VE RA-16</td>\n",
       "      <td>2018</td>\n",
       "      <td>30000</td>\n",
       "      <td>2159200</td>\n",
       "    </tr>\n",
       "    <tr>\n",
       "      <th>12809</th>\n",
       "      <td>Mercedes Benz</td>\n",
       "      <td>Clase G</td>\n",
       "      <td>500 4X4</td>\n",
       "      <td>2018</td>\n",
       "      <td>11582</td>\n",
       "      <td>2299000</td>\n",
       "    </tr>\n",
       "    <tr>\n",
       "      <th>12810</th>\n",
       "      <td>Mercedes Benz</td>\n",
       "      <td>Maybach</td>\n",
       "      <td>S 650</td>\n",
       "      <td>2019</td>\n",
       "      <td>6807</td>\n",
       "      <td>2849900</td>\n",
       "    </tr>\n",
       "    <tr>\n",
       "      <th>12811</th>\n",
       "      <td>Mercedes Benz</td>\n",
       "      <td>AMG GT</td>\n",
       "      <td>S</td>\n",
       "      <td>2019</td>\n",
       "      <td>2283</td>\n",
       "      <td>2999900</td>\n",
       "    </tr>\n",
       "    <tr>\n",
       "      <th>12812</th>\n",
       "      <td>Kia</td>\n",
       "      <td>Stinger</td>\n",
       "      <td>GT</td>\n",
       "      <td>2019</td>\n",
       "      <td>1</td>\n",
       "      <td>7049000</td>\n",
       "    </tr>\n",
       "  </tbody>\n",
       "</table>\n",
       "<p>12812 rows × 6 columns</p>\n",
       "</div>"
      ],
      "text/plain": [
       "               brand        model                              version  year  \\\n",
       "0               Ford         Ikon                          Ambiente Ac  2001   \n",
       "1               Ford        Focus                                  LX   2000   \n",
       "2               Ford        Sable                           LS Premium  2001   \n",
       "3          Chevrolet  Chevy Sedán                           1.6L Monza  2001   \n",
       "4               Ford        Focus                             Ambiente  2001   \n",
       "...              ...          ...                                  ...   ...   \n",
       "12808         Suzuki        Ignis  5P GLX 1.2L TM5 A/AC. AUT. VE RA-16  2018   \n",
       "12809  Mercedes Benz      Clase G                              500 4X4  2018   \n",
       "12810  Mercedes Benz      Maybach                                S 650  2019   \n",
       "12811  Mercedes Benz       AMG GT                                    S  2019   \n",
       "12812            Kia      Stinger                                   GT  2019   \n",
       "\n",
       "           km    price  \n",
       "0      123467    31500  \n",
       "1      140000    33000  \n",
       "2      145630    33000  \n",
       "3      147500    35000  \n",
       "4      219143    35000  \n",
       "...       ...      ...  \n",
       "12808   30000  2159200  \n",
       "12809   11582  2299000  \n",
       "12810    6807  2849900  \n",
       "12811    2283  2999900  \n",
       "12812       1  7049000  \n",
       "\n",
       "[12812 rows x 6 columns]"
      ]
     },
     "execution_count": 3,
     "metadata": {},
     "output_type": "execute_result"
    }
   ],
   "source": [
    "#Vista previa de la información disponible en el DataFrame\n",
    "df"
   ]
  },
  {
   "cell_type": "markdown",
   "metadata": {},
   "source": [
    "### Variables numéricas Vs. Cadenas\n",
    "\n",
    "Las columnas `year` y `km` contienen variables numéricas, lo que nos facilita mucho para un algoritmo de regresión lineal, ¿pero qué hay con las columnas `brand`, `model` y `version`? Finalmente, son las que contienen la información de qué tipo de carro es al que se hace referencia.\n",
    "\n",
    "Es muy fácil imaginar los motivos que contribuyen a que un carro de marca Mercedes Benz o BMW será mucho más costoso que un Chevrolet, aunque sean del mismo año y tengan el mismo kilometraje, pero la regresión lineal solamente entiende de números, las letras, por su valor numérico en ASCII u otra forma de codificar las letras que forman el nombre de la marca, no significan mucho, ni se traducen en valores reales que influyen al precio del auto. Por ejemplo, el valor numérico de Ford por sus letras es menor que el de Chevrolet, sin embargo, es más común que los coches Chevrolet sean más baratos porque tienen más modelos de bajo costo (como Matiz, Chevy, o Spark), que la marca Ford. Y al mismo tiempo BMW tiene menos letras que Ford, pero es bien conocido que es una marca mucho más costosa en sus vehículos.\n",
    "\n",
    "Habiendo dicho esto, ¿entonces qué hacemos para interpretar el significado de si un auto es de una marca u otra en forma numérica?\n",
    "\n",
    "### Variables categóricas\n",
    "\n",
    "La forma normal de visualizar los valores de cadena que representan *algo*, y que se repiten en una columna de nuestros datos es en forma de \"categorías\". Esto significa que las categorías se pueden representar con un número (e.g. Ford = 1, Chevrolet = 2, BMW = 3, etc.).\n",
    "\n",
    "A su vez, estas variables pueden ser de dos tipos: ordinales y nominales. Las variables nominales son sólo \"nombres\", y las ordinales implican que hay un \"orden\" implícito en estas categorías. En nuestro caso, no hay un orden implícito, aunque queramos pensar que sí se pueden poner en una escala de las marcas menos costosas a las más costosas. La realidad es que como los precios cambian año con año, y cada que una marca saca un modelo distinto, necesitamos algo menos ambiguo, o menos cambiante para darle significado a nuestras categorías.\n",
    "\n",
    "¿Y entonces? ¿Acaso no nos regresa esto que el nombre de la marca realmente no signifique nada? Pues sí, en este caso sólo tradujimos una cadena a un número de categoría, y como estamos tratando con más de dos marcas, y una variable nominal no dicotomizada (o no binaria), no nos ayuda mucho, necesitamos pensar en cómo dicotomizarla, para que cada peso que multiplique la variable que represente la marca del auto, se traduzca directamente en la influencia que tiene esta variable sobre el precio final.\n",
    "\n",
    "### Dummy variables\n",
    "\n",
    "Quizás la pregunta correcta no sea necesariamente `¿de qué marca es?` sino `¿es de marca 'XYZ' o no?`. Replanteando la pregunta de esta manera, podemos tener variables que son independientes una de la otra, y que contribuyen independientemente al precio final. Esto es, que separamos las marcas, para que cada una no sea afectada por las demás.\n",
    "\n",
    "Lograr esto significa crear las llamadas `dummy variables` (o variables de paja / variables postizas). Esto se hace creando una variable por cada una de las categorías, haciéndolas dicótomas, y representadas exclusivamente por valores de `1` o `0`. En nuestro caso, si tuviéramos las 3 marcas: Kia, Ford y Chevrolet, cada una tendría su propia variable.\n",
    "\n",
    "#### Categorías originales\n",
    "\n",
    "|    Marca  |   Modelo  |  Precio |\n",
    "|:---------:|:---------:|:-------:|\n",
    "|   Kia     | Stinger   | 7049000 |\n",
    "| Chevrolet |Chevy Sedán|  35000  |\n",
    "| Ford      | Ikon      |  31500  |\n",
    "\n",
    "#### Categorías dicotomizadas (dummy variables)\n",
    "\n",
    "|  Kia  | Chevrolet | Ford |    Modelo  |  Precio |\n",
    "|:-----:|:---------:|:----:|:----------:|:-------:|\n",
    "| 1     | 0         |   0  |    Stinger | 7049000 |\n",
    "| 0     | 1         |   0  | Chevy Sedán|  35000  |\n",
    "| 0     | 0         |   1  |    Ikon    |  31500  |\n",
    "\n",
    "Una vez que lo anterior se entiende, podemos entender cómo utilizar todas las categorías no ordinales para calcular los pesos que se relacionan con ellas, que también es el caso con el modelo y las versiones de los vehículos.\n",
    "\n",
    "Veamos ahora cuántos valores tenemos para cada uno."
   ]
  },
  {
   "cell_type": "code",
   "execution_count": 4,
   "metadata": {
    "scrolled": false
   },
   "outputs": [
    {
     "name": "stdout",
     "output_type": "stream",
     "text": [
      "Marcas distintas: 47\n",
      "Modelos distintos: 531\n",
      "Versiones distintas: 3939\n"
     ]
    }
   ],
   "source": [
    "print(\"Marcas distintas:\", len(df.brand.unique()))\n",
    "print(\"Modelos distintos:\", len(df.model.unique()))\n",
    "print(\"Versiones distintas:\", len(df.version.unique()))"
   ]
  },
  {
   "cell_type": "markdown",
   "metadata": {},
   "source": [
    "47 marcas son un número considerable, 531 modelos para estas marcas significaría un número todavía mayor de variables dicótomas, que se traduciría en mayor necesidad de poder de computo para calcular los pesos en todas ellas, pero 3939 versiones para estos 531 modelos distintos, es casi como 1 de cada 4 dueños hubiera inventado su propia versión, y no representa necesariamente la versión real del vehículo. Esto es, que en lugar de ver para un modelo de Chevrolet las versiones `LS`, `LT` o `LTS` de un vehículo, vemos `Equipado AC Transmisión manual`. Si cada versión es lo que cada quién escribió con su palabra, no será tarea fácil generalizar a qué versión se refieren del vehículo, veamos qué debemos hacer al respecto.\n",
    "\n",
    "### Encontrar valores anómalos y poco significativos\n",
    "\n",
    "Hasta este punto sólo sabemos que todas las columnas en todas sus filas tienen un valor, pero no hemos encontrado qué otros casos de valores anómalos existen, además de lo que resalta a simple vista con las versiones, como mencionamos anteriormente. Quizás haya alguna marca que sólo tenga un vehículo, o un modelo con las letras al revés (Chvey en vez de Chevy, por ejemplo). Descartar algunos de estos, o corregirlos para agruparlos en la categoría correcta nos podría ahorras varias dimensiones, y eso nos ahorraría precioso poder de cómputo.\n",
    "\n",
    "Empecemos por ver cuántos vehículos hay por marca, y descartar las marcas donde haya sólo un vehículo."
   ]
  },
  {
   "cell_type": "code",
   "execution_count": 39,
   "metadata": {},
   "outputs": [
    {
     "name": "stdout",
     "output_type": "stream",
     "text": [
      "Marcas con carros únicos: ['Ferrari', 'Lamborghini', 'SRT', 'JAC']\n",
      "Registros originales: 12812\n",
      "Registros originales: 12808\n"
     ]
    }
   ],
   "source": [
    "#Inicializar una lista con marcas de autos que sólo tengan un registro\n",
    "unicos = []\n",
    "\n",
    "#Revisemos el conteo de cada marca\n",
    "for marca in df.brand.unique():\n",
    "    cuenta = len(df[df.brand == marca])\n",
    "    if cuenta == 1:\n",
    "        unicos.append(marca)\n",
    "\n",
    "print(f\"Marcas con carros únicos: {unicos}\")\n",
    "print(f\"Registros originales: {len(df)}\")\n",
    "df = df[~df.brand.isin(unicos)]\n",
    "print(f\"Registros originales: {len(df)}\")"
   ]
  },
  {
   "cell_type": "markdown",
   "metadata": {},
   "source": [
    "Bueno, visto lo anterior, es entendible que no haya gente anunciando Lamborghinis y Ferraris por doquier en un sitio de venta de segunda mano.\n",
    "\n",
    "Continuemos por realizar un ejercicio similar con las versiones, identifiquemos cuántas versiones por modelo hay, quizás podríamos concluir que las versiones no están tan alejadas entre sí y tienen muchas similitud que podríamos corregir si truncamos o corregimos parte del texto en la versión. Intentemos con una marca que no haya tenido demasiados modelos distintos a través de los años, como Mazda."
   ]
  },
  {
   "cell_type": "code",
   "execution_count": 67,
   "metadata": {},
   "outputs": [
    {
     "data": {
      "text/plain": [
       "brand  model      \n",
       "Mazda  2               28\n",
       "       2 Sedán          8\n",
       "       3 Hatchback     95\n",
       "       3 Sedan        180\n",
       "       5               13\n",
       "       6               60\n",
       "       CX-3            16\n",
       "       CX-5            66\n",
       "       CX-7            27\n",
       "       CX-9            53\n",
       "       MX-5            19\n",
       "       Speed3           2\n",
       "dtype: int64"
      ]
     },
     "execution_count": 67,
     "metadata": {},
     "output_type": "execute_result"
    }
   ],
   "source": [
    "df[df.brand == 'Mazda'].groupby(['brand', 'model']).size()"
   ]
  },
  {
   "cell_type": "markdown",
   "metadata": {},
   "source": [
    "180 versiones para el mismo modelo de auto suena a demasiado (Mazda 3 Sedan)"
   ]
  },
  {
   "cell_type": "code",
   "execution_count": null,
   "metadata": {},
   "outputs": [],
   "source": [
    "\n"
   ]
  }
 ],
 "metadata": {
  "kernelspec": {
   "display_name": "Python 3.7.2 64-bit ('pyenv': venv)",
   "language": "python",
   "name": "python37264bitpyenvvenvc673da5bded546ba9bf3ee42c3e4e2ae"
  },
  "language_info": {
   "codemirror_mode": {
    "name": "ipython",
    "version": 3
   },
   "file_extension": ".py",
   "mimetype": "text/x-python",
   "name": "python",
   "nbconvert_exporter": "python",
   "pygments_lexer": "ipython3",
   "version": "3.7.2"
  }
 },
 "nbformat": 4,
 "nbformat_minor": 2
}
