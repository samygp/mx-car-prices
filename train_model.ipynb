{
 "cells": [
  {
   "cell_type": "code",
   "execution_count": 13,
   "metadata": {},
   "outputs": [],
   "source": [
    "import pandas as pd\n",
    "import numpy as np\n",
    "from scipy.optimize import nnls\n",
    "from sklearn import linear_model\n",
    "from sklearn.model_selection import train_test_split\n",
    "from joblib import dump"
   ]
  },
  {
   "cell_type": "code",
   "execution_count": 14,
   "metadata": {},
   "outputs": [
    {
     "name": "stdout",
     "output_type": "stream",
     "text": "(6731, 66)\n"
    },
    {
     "data": {
      "text/html": "<div>\n<style scoped>\n    .dataframe tbody tr th:only-of-type {\n        vertical-align: middle;\n    }\n\n    .dataframe tbody tr th {\n        vertical-align: top;\n    }\n\n    .dataframe thead th {\n        text-align: right;\n    }\n</style>\n<table border=\"1\" class=\"dataframe\">\n  <thead>\n    <tr style=\"text-align: right;\">\n      <th></th>\n      <th>chevrolet_aveo</th>\n      <th>chevrolet_beat</th>\n      <th>chevrolet_captiva sport</th>\n      <th>chevrolet_cavalier</th>\n      <th>chevrolet_chevy</th>\n      <th>chevrolet_cruze</th>\n      <th>chevrolet_equinox</th>\n      <th>chevrolet_malibu</th>\n      <th>chevrolet_sonic</th>\n      <th>chevrolet_spark</th>\n      <th>...</th>\n      <th>volkswagen_jetta</th>\n      <th>volkswagen_passat</th>\n      <th>volkswagen_polo</th>\n      <th>volkswagen_polo hatchback</th>\n      <th>volkswagen_tiguan</th>\n      <th>volkswagen_up!</th>\n      <th>volkswagen_vento</th>\n      <th>y_old</th>\n      <th>km</th>\n      <th>price</th>\n    </tr>\n  </thead>\n  <tbody>\n    <tr>\n      <th>0</th>\n      <td>0</td>\n      <td>0</td>\n      <td>0</td>\n      <td>0</td>\n      <td>0</td>\n      <td>0</td>\n      <td>0</td>\n      <td>0</td>\n      <td>0</td>\n      <td>0</td>\n      <td>...</td>\n      <td>0</td>\n      <td>0</td>\n      <td>0</td>\n      <td>0</td>\n      <td>0</td>\n      <td>0</td>\n      <td>0</td>\n      <td>20</td>\n      <td>140000</td>\n      <td>33000</td>\n    </tr>\n    <tr>\n      <th>1</th>\n      <td>0</td>\n      <td>0</td>\n      <td>0</td>\n      <td>0</td>\n      <td>0</td>\n      <td>0</td>\n      <td>0</td>\n      <td>0</td>\n      <td>0</td>\n      <td>0</td>\n      <td>...</td>\n      <td>0</td>\n      <td>0</td>\n      <td>0</td>\n      <td>0</td>\n      <td>0</td>\n      <td>0</td>\n      <td>0</td>\n      <td>19</td>\n      <td>219143</td>\n      <td>35000</td>\n    </tr>\n    <tr>\n      <th>2</th>\n      <td>0</td>\n      <td>0</td>\n      <td>0</td>\n      <td>0</td>\n      <td>0</td>\n      <td>0</td>\n      <td>0</td>\n      <td>0</td>\n      <td>0</td>\n      <td>0</td>\n      <td>...</td>\n      <td>1</td>\n      <td>0</td>\n      <td>0</td>\n      <td>0</td>\n      <td>0</td>\n      <td>0</td>\n      <td>0</td>\n      <td>19</td>\n      <td>155000</td>\n      <td>39000</td>\n    </tr>\n    <tr>\n      <th>3</th>\n      <td>0</td>\n      <td>0</td>\n      <td>0</td>\n      <td>0</td>\n      <td>0</td>\n      <td>0</td>\n      <td>0</td>\n      <td>0</td>\n      <td>0</td>\n      <td>0</td>\n      <td>...</td>\n      <td>0</td>\n      <td>0</td>\n      <td>0</td>\n      <td>0</td>\n      <td>0</td>\n      <td>0</td>\n      <td>0</td>\n      <td>19</td>\n      <td>191775</td>\n      <td>42000</td>\n    </tr>\n    <tr>\n      <th>4</th>\n      <td>0</td>\n      <td>0</td>\n      <td>0</td>\n      <td>0</td>\n      <td>0</td>\n      <td>0</td>\n      <td>0</td>\n      <td>0</td>\n      <td>0</td>\n      <td>0</td>\n      <td>...</td>\n      <td>0</td>\n      <td>0</td>\n      <td>0</td>\n      <td>0</td>\n      <td>0</td>\n      <td>0</td>\n      <td>0</td>\n      <td>19</td>\n      <td>165328</td>\n      <td>42000</td>\n    </tr>\n  </tbody>\n</table>\n<p>5 rows × 66 columns</p>\n</div>",
      "text/plain": "   chevrolet_aveo  chevrolet_beat  chevrolet_captiva sport  \\\n0               0               0                        0   \n1               0               0                        0   \n2               0               0                        0   \n3               0               0                        0   \n4               0               0                        0   \n\n   chevrolet_cavalier  chevrolet_chevy  chevrolet_cruze  chevrolet_equinox  \\\n0                   0                0                0                  0   \n1                   0                0                0                  0   \n2                   0                0                0                  0   \n3                   0                0                0                  0   \n4                   0                0                0                  0   \n\n   chevrolet_malibu  chevrolet_sonic  chevrolet_spark  ...  volkswagen_jetta  \\\n0                 0                0                0  ...                 0   \n1                 0                0                0  ...                 0   \n2                 0                0                0  ...                 1   \n3                 0                0                0  ...                 0   \n4                 0                0                0  ...                 0   \n\n   volkswagen_passat  volkswagen_polo  volkswagen_polo hatchback  \\\n0                  0                0                          0   \n1                  0                0                          0   \n2                  0                0                          0   \n3                  0                0                          0   \n4                  0                0                          0   \n\n   volkswagen_tiguan  volkswagen_up!  volkswagen_vento  y_old      km  price  \n0                  0               0                 0     20  140000  33000  \n1                  0               0                 0     19  219143  35000  \n2                  0               0                 0     19  155000  39000  \n3                  0               0                 0     19  191775  42000  \n4                  0               0                 0     19  165328  42000  \n\n[5 rows x 66 columns]"
     },
     "execution_count": 14,
     "metadata": {},
     "output_type": "execute_result"
    }
   ],
   "source": [
    "df = pd.read_csv(\"./carros_training.csv\", index_col=0).reset_index(drop=True)\n",
    "print(df.shape)\n",
    "df.head()"
   ]
  },
  {
   "cell_type": "code",
   "execution_count": 15,
   "metadata": {},
   "outputs": [
    {
     "data": {
      "text/html": "<div>\n<style scoped>\n    .dataframe tbody tr th:only-of-type {\n        vertical-align: middle;\n    }\n\n    .dataframe tbody tr th {\n        vertical-align: top;\n    }\n\n    .dataframe thead th {\n        text-align: right;\n    }\n</style>\n<table border=\"1\" class=\"dataframe\">\n  <thead>\n    <tr style=\"text-align: right;\">\n      <th></th>\n      <th>chevrolet_aveo</th>\n      <th>chevrolet_beat</th>\n      <th>chevrolet_captiva sport</th>\n      <th>chevrolet_cavalier</th>\n      <th>chevrolet_chevy</th>\n      <th>chevrolet_cruze</th>\n      <th>chevrolet_equinox</th>\n      <th>chevrolet_malibu</th>\n      <th>chevrolet_sonic</th>\n      <th>chevrolet_spark</th>\n      <th>...</th>\n      <th>volkswagen_jetta</th>\n      <th>volkswagen_passat</th>\n      <th>volkswagen_polo</th>\n      <th>volkswagen_polo hatchback</th>\n      <th>volkswagen_tiguan</th>\n      <th>volkswagen_up!</th>\n      <th>volkswagen_vento</th>\n      <th>y_old</th>\n      <th>km</th>\n      <th>price</th>\n    </tr>\n  </thead>\n  <tbody>\n    <tr>\n      <th>count</th>\n      <td>6731.000000</td>\n      <td>6731.000000</td>\n      <td>6731.000000</td>\n      <td>6731.000000</td>\n      <td>6731.000000</td>\n      <td>6731.000000</td>\n      <td>6731.000000</td>\n      <td>6731.000000</td>\n      <td>6731.000000</td>\n      <td>6731.000000</td>\n      <td>...</td>\n      <td>6731.000000</td>\n      <td>6731.000000</td>\n      <td>6731.00000</td>\n      <td>6731.000000</td>\n      <td>6731.000000</td>\n      <td>6731.000000</td>\n      <td>6731.000000</td>\n      <td>6731.000000</td>\n      <td>6731.000000</td>\n      <td>6.731000e+03</td>\n    </tr>\n    <tr>\n      <th>mean</th>\n      <td>0.053187</td>\n      <td>0.011588</td>\n      <td>0.004903</td>\n      <td>0.009508</td>\n      <td>0.004903</td>\n      <td>0.016491</td>\n      <td>0.009657</td>\n      <td>0.008320</td>\n      <td>0.019759</td>\n      <td>0.014411</td>\n      <td>...</td>\n      <td>0.087654</td>\n      <td>0.016491</td>\n      <td>0.01144</td>\n      <td>0.010251</td>\n      <td>0.020502</td>\n      <td>0.005200</td>\n      <td>0.040856</td>\n      <td>4.556381</td>\n      <td>63132.429654</td>\n      <td>2.249850e+05</td>\n    </tr>\n    <tr>\n      <th>std</th>\n      <td>0.224422</td>\n      <td>0.107031</td>\n      <td>0.069853</td>\n      <td>0.097053</td>\n      <td>0.069853</td>\n      <td>0.127363</td>\n      <td>0.097801</td>\n      <td>0.090839</td>\n      <td>0.139183</td>\n      <td>0.119186</td>\n      <td>...</td>\n      <td>0.282812</td>\n      <td>0.127363</td>\n      <td>0.10635</td>\n      <td>0.100735</td>\n      <td>0.141721</td>\n      <td>0.071927</td>\n      <td>0.197971</td>\n      <td>3.140905</td>\n      <td>62893.539305</td>\n      <td>1.293082e+05</td>\n    </tr>\n    <tr>\n      <th>min</th>\n      <td>0.000000</td>\n      <td>0.000000</td>\n      <td>0.000000</td>\n      <td>0.000000</td>\n      <td>0.000000</td>\n      <td>0.000000</td>\n      <td>0.000000</td>\n      <td>0.000000</td>\n      <td>0.000000</td>\n      <td>0.000000</td>\n      <td>...</td>\n      <td>0.000000</td>\n      <td>0.000000</td>\n      <td>0.00000</td>\n      <td>0.000000</td>\n      <td>0.000000</td>\n      <td>0.000000</td>\n      <td>0.000000</td>\n      <td>1.000000</td>\n      <td>1.000000</td>\n      <td>3.200000e+03</td>\n    </tr>\n    <tr>\n      <th>25%</th>\n      <td>0.000000</td>\n      <td>0.000000</td>\n      <td>0.000000</td>\n      <td>0.000000</td>\n      <td>0.000000</td>\n      <td>0.000000</td>\n      <td>0.000000</td>\n      <td>0.000000</td>\n      <td>0.000000</td>\n      <td>0.000000</td>\n      <td>...</td>\n      <td>0.000000</td>\n      <td>0.000000</td>\n      <td>0.00000</td>\n      <td>0.000000</td>\n      <td>0.000000</td>\n      <td>0.000000</td>\n      <td>0.000000</td>\n      <td>2.000000</td>\n      <td>29915.500000</td>\n      <td>1.459000e+05</td>\n    </tr>\n    <tr>\n      <th>50%</th>\n      <td>0.000000</td>\n      <td>0.000000</td>\n      <td>0.000000</td>\n      <td>0.000000</td>\n      <td>0.000000</td>\n      <td>0.000000</td>\n      <td>0.000000</td>\n      <td>0.000000</td>\n      <td>0.000000</td>\n      <td>0.000000</td>\n      <td>...</td>\n      <td>0.000000</td>\n      <td>0.000000</td>\n      <td>0.00000</td>\n      <td>0.000000</td>\n      <td>0.000000</td>\n      <td>0.000000</td>\n      <td>0.000000</td>\n      <td>4.000000</td>\n      <td>53940.000000</td>\n      <td>1.950000e+05</td>\n    </tr>\n    <tr>\n      <th>75%</th>\n      <td>0.000000</td>\n      <td>0.000000</td>\n      <td>0.000000</td>\n      <td>0.000000</td>\n      <td>0.000000</td>\n      <td>0.000000</td>\n      <td>0.000000</td>\n      <td>0.000000</td>\n      <td>0.000000</td>\n      <td>0.000000</td>\n      <td>...</td>\n      <td>0.000000</td>\n      <td>0.000000</td>\n      <td>0.00000</td>\n      <td>0.000000</td>\n      <td>0.000000</td>\n      <td>0.000000</td>\n      <td>0.000000</td>\n      <td>6.000000</td>\n      <td>82227.500000</td>\n      <td>2.650000e+05</td>\n    </tr>\n    <tr>\n      <th>max</th>\n      <td>1.000000</td>\n      <td>1.000000</td>\n      <td>1.000000</td>\n      <td>1.000000</td>\n      <td>1.000000</td>\n      <td>1.000000</td>\n      <td>1.000000</td>\n      <td>1.000000</td>\n      <td>1.000000</td>\n      <td>1.000000</td>\n      <td>...</td>\n      <td>1.000000</td>\n      <td>1.000000</td>\n      <td>1.00000</td>\n      <td>1.000000</td>\n      <td>1.000000</td>\n      <td>1.000000</td>\n      <td>1.000000</td>\n      <td>20.000000</td>\n      <td>999999.000000</td>\n      <td>1.999000e+06</td>\n    </tr>\n  </tbody>\n</table>\n<p>8 rows × 66 columns</p>\n</div>",
      "text/plain": "       chevrolet_aveo  chevrolet_beat  chevrolet_captiva sport  \\\ncount     6731.000000     6731.000000              6731.000000   \nmean         0.053187        0.011588                 0.004903   \nstd          0.224422        0.107031                 0.069853   \nmin          0.000000        0.000000                 0.000000   \n25%          0.000000        0.000000                 0.000000   \n50%          0.000000        0.000000                 0.000000   \n75%          0.000000        0.000000                 0.000000   \nmax          1.000000        1.000000                 1.000000   \n\n       chevrolet_cavalier  chevrolet_chevy  chevrolet_cruze  \\\ncount         6731.000000      6731.000000      6731.000000   \nmean             0.009508         0.004903         0.016491   \nstd              0.097053         0.069853         0.127363   \nmin              0.000000         0.000000         0.000000   \n25%              0.000000         0.000000         0.000000   \n50%              0.000000         0.000000         0.000000   \n75%              0.000000         0.000000         0.000000   \nmax              1.000000         1.000000         1.000000   \n\n       chevrolet_equinox  chevrolet_malibu  chevrolet_sonic  chevrolet_spark  \\\ncount        6731.000000       6731.000000      6731.000000      6731.000000   \nmean            0.009657          0.008320         0.019759         0.014411   \nstd             0.097801          0.090839         0.139183         0.119186   \nmin             0.000000          0.000000         0.000000         0.000000   \n25%             0.000000          0.000000         0.000000         0.000000   \n50%             0.000000          0.000000         0.000000         0.000000   \n75%             0.000000          0.000000         0.000000         0.000000   \nmax             1.000000          1.000000         1.000000         1.000000   \n\n       ...  volkswagen_jetta  volkswagen_passat  volkswagen_polo  \\\ncount  ...       6731.000000        6731.000000       6731.00000   \nmean   ...          0.087654           0.016491          0.01144   \nstd    ...          0.282812           0.127363          0.10635   \nmin    ...          0.000000           0.000000          0.00000   \n25%    ...          0.000000           0.000000          0.00000   \n50%    ...          0.000000           0.000000          0.00000   \n75%    ...          0.000000           0.000000          0.00000   \nmax    ...          1.000000           1.000000          1.00000   \n\n       volkswagen_polo hatchback  volkswagen_tiguan  volkswagen_up!  \\\ncount                6731.000000        6731.000000     6731.000000   \nmean                    0.010251           0.020502        0.005200   \nstd                     0.100735           0.141721        0.071927   \nmin                     0.000000           0.000000        0.000000   \n25%                     0.000000           0.000000        0.000000   \n50%                     0.000000           0.000000        0.000000   \n75%                     0.000000           0.000000        0.000000   \nmax                     1.000000           1.000000        1.000000   \n\n       volkswagen_vento        y_old             km         price  \ncount       6731.000000  6731.000000    6731.000000  6.731000e+03  \nmean           0.040856     4.556381   63132.429654  2.249850e+05  \nstd            0.197971     3.140905   62893.539305  1.293082e+05  \nmin            0.000000     1.000000       1.000000  3.200000e+03  \n25%            0.000000     2.000000   29915.500000  1.459000e+05  \n50%            0.000000     4.000000   53940.000000  1.950000e+05  \n75%            0.000000     6.000000   82227.500000  2.650000e+05  \nmax            1.000000    20.000000  999999.000000  1.999000e+06  \n\n[8 rows x 66 columns]"
     },
     "execution_count": 15,
     "metadata": {},
     "output_type": "execute_result"
    }
   ],
   "source": [
    "df.describe()"
   ]
  },
  {
   "cell_type": "code",
   "execution_count": 16,
   "metadata": {},
   "outputs": [],
   "source": [
    "X = df.drop(['price'], axis=1)\n",
    "Y = df.price\n",
    "#Separar sets de entrenamiento y prueba\n",
    "X_train, X_test, Y_train, Y_test = train_test_split(X, Y, test_size = .10, random_state = 40)"
   ]
  },
  {
   "cell_type": "code",
   "execution_count": 17,
   "metadata": {},
   "outputs": [],
   "source": [
    "#Evaluar resultados\n",
    "def obtener_modelo(row):\n",
    "    for col in row.index:\n",
    "        if row[col] == 1:\n",
    "            return col\n",
    "\n",
    "def get_metrics(row, anunciado, prediccion, imprimir=False):\n",
    "    carro = obtener_modelo(row)\n",
    "    err = abs(prediccion - anunciado)/anunciado\n",
    "    if imprimir:\n",
    "        print(f\"\\nPara un {carro} con {row['km']}km y {row['y_old']} años de uso\")\n",
    "        print(f\"Precio anunciado: {anunciado} Precio predicho: {prediccion}.\")\n",
    "        print(f\"Error: {round(100*err,2)}%\")\n",
    "    return err\n",
    "\n",
    "def evaluar_modelo(X_test, Y_test, modelo):\n",
    "    errAcc = 0\n",
    "    columnas = X_test.shape[0]\n",
    "    for i in range(columnas):\n",
    "        row = X_test.iloc[i]\n",
    "        prediccion = int(np.dot(modelo, row))\n",
    "        anunciado = Y_test.iloc[i]\n",
    "        errAcc += get_metrics(row, anunciado, prediccion, i<5)\n",
    "    errProm = round(100*errAcc/columnas, 2)\n",
    "    print(f\"\\nScore: {100 - errProm}\")\n",
    "    print(f\"Error promedio: {errProm}\")\n",
    "\n",
    "def evaluar_sk(X_test, Y_test, predicted):\n",
    "    columnas = X_test.shape[0]\n",
    "    for i in range(columnas):\n",
    "        row = X_test.iloc[i]\n",
    "        prediccion = int(predicted[i])\n",
    "        anunciado = Y_test.iloc[i]\n",
    "        get_metrics(row, anunciado, prediccion, i<5)\n"
   ]
  },
  {
   "cell_type": "code",
   "execution_count": 18,
   "metadata": {},
   "outputs": [
    {
     "name": "stdout",
     "output_type": "stream",
     "text": "Score: 0.8103619187759896\nError promedio: 18.96\n\nPara un chevrolet_aveo con 67445km y 5 años de uso\nPrecio anunciado: 129000 Precio predicho: 110996.\nError: 13.96%\n\nPara un chevrolet_aveo con 28000km y 4 años de uso\nPrecio anunciado: 145000 Precio predicho: 138680.\nError: 4.36%\n\nPara un volkswagen_up! con 17069km y 2 años de uso\nPrecio anunciado: 165000 Precio predicho: 175260.\nError: 6.22%\n\nPara un nissan_sentra con 16110km y 4 años de uso\nPrecio anunciado: 175000 Precio predicho: 211940.\nError: 21.11%\n\nPara un volkswagen_vento con 24940km y 1 años de uso\nPrecio anunciado: 255000 Precio predicho: 218033.\nError: 14.5%\n"
    },
    {
     "data": {
      "text/plain": "['./app/modelazo.joblib']"
     },
     "execution_count": 18,
     "metadata": {},
     "output_type": "execute_result"
    }
   ],
   "source": [
    "regr = linear_model.LinearRegression()\n",
    "regr.fit(X_train, Y_train)\n",
    "predicted = regr.predict(X_test)\n",
    "\n",
    "print(\"Score:\",regr.score(X_test, Y_test))\n",
    "print(\"Error promedio:\", round(100*(1 - regr.score(X_test, Y_test)), 2))\n",
    "evaluar_sk(X_test, Y_test, predicted)\n",
    "#Exportar archivo\n",
    "dump(regr, './app/modelazo.joblib')"
   ]
  },
  {
   "cell_type": "code",
   "execution_count": 19,
   "metadata": {},
   "outputs": [
    {
     "name": "stdout",
     "output_type": "stream",
     "text": "\nPara un chevrolet_aveo con 67445km y 5 años de uso\nPrecio anunciado: 129000 Precio predicho: 133857.\nError: 3.77%\n\nPara un chevrolet_aveo con 28000km y 4 años de uso\nPrecio anunciado: 145000 Precio predicho: 133857.\nError: 7.68%\n\nPara un volkswagen_up! con 17069km y 2 años de uso\nPrecio anunciado: 165000 Precio predicho: 168456.\nError: 2.09%\n\nPara un nissan_sentra con 16110km y 4 años de uso\nPrecio anunciado: 175000 Precio predicho: 179575.\nError: 2.61%\n\nPara un volkswagen_vento con 24940km y 1 años de uso\nPrecio anunciado: 255000 Precio predicho: 181461.\nError: 28.84%\n\nScore: 69.14\nError promedio: 30.86\n"
    }
   ],
   "source": [
    "modelo = nnls(X_train, Y_train)[0]\n",
    "evaluar_modelo(X_test, Y_test, modelo)"
   ]
  },
  {
   "cell_type": "code",
   "execution_count": 20,
   "metadata": {},
   "outputs": [
    {
     "name": "stdout",
     "output_type": "stream",
     "text": "\nPara un chevrolet_aveo con 67445km y 5 años de uso\nPrecio anunciado: 129000 Precio predicho: 133857.\nError: 3.77%\n\nPara un chevrolet_aveo con 28000km y 4 años de uso\nPrecio anunciado: 145000 Precio predicho: 133857.\nError: 7.68%\n\nPara un volkswagen_up! con 17069km y 2 años de uso\nPrecio anunciado: 165000 Precio predicho: 168456.\nError: 2.09%\n\nPara un nissan_sentra con 16110km y 4 años de uso\nPrecio anunciado: 175000 Precio predicho: 179575.\nError: 2.61%\n\nPara un volkswagen_vento con 24940km y 1 años de uso\nPrecio anunciado: 255000 Precio predicho: 181461.\nError: 28.84%\n\nScore: 69.14\nError promedio: 30.86\n"
    }
   ],
   "source": [
    "pesos = []\n",
    "\n",
    "for col in X_train:\n",
    "    if col in 'km,y_old':\n",
    "        continue\n",
    "    indices = X_train[col] == 1\n",
    "    dfX = X_train[indices][[col, 'km', 'y_old']]\n",
    "    dfY = Y_train[indices]\n",
    "    m = nnls(dfX, dfY)[0]\n",
    "    pesos.append(m[0])\n",
    "\n",
    "for elem in modelo[-2:]:\n",
    "    pesos.append(elem)\n",
    "\n",
    "modelo_chucky = np.array(pesos)\n",
    "evaluar_modelo(X_test, Y_test, modelo_chucky)\n"
   ]
  },
  {
   "cell_type": "code",
   "execution_count": 21,
   "metadata": {},
   "outputs": [],
   "source": [
    "#sgd = linear_model.SGDRegressor(fit_intercept=False, verbose=1)\n",
    "#sgd.fit(X_train, Y_train)\n",
    "#predicted = sgd.predict(X_test)\n",
    "\n",
    "#evaluar_sk(X_test, Y_test, predicted)\n",
    "#print(\"Score:\",sgd.score(X_test, Y_test))\n",
    "#print(\"Error promedio:\", round(100*(1 - sgd.score(X_test, Y_test)), 2))"
   ]
  },
  {
   "cell_type": "code",
   "execution_count": 22,
   "metadata": {},
   "outputs": [
    {
     "data": {
      "text/plain": "'percep = linear_model.Perceptron(fit_intercept=False, verbose=1, max_iter=1000, n_jobs=1)\\npercep.fit(X_train, Y_train)'"
     },
     "execution_count": 22,
     "metadata": {},
     "output_type": "execute_result"
    }
   ],
   "source": [
    "\"\"\"percep = linear_model.Perceptron(fit_intercept=False, verbose=1, max_iter=1000, n_jobs=1)\n",
    "percep.fit(X_train, Y_train)\"\"\""
   ]
  },
  {
   "cell_type": "code",
   "execution_count": 23,
   "metadata": {},
   "outputs": [
    {
     "data": {
      "text/plain": "'predicted = percep.predict(X_test)\\nprint(\"score:\",percep.score(X_test, Y_test))\\nprint(predicted)'"
     },
     "execution_count": 23,
     "metadata": {},
     "output_type": "execute_result"
    }
   ],
   "source": [
    "\"\"\"predicted = percep.predict(X_test)\n",
    "print(\"score:\",percep.score(X_test, Y_test))\n",
    "print(predicted)\"\"\""
   ]
  },
  {
   "cell_type": "code",
   "execution_count": null,
   "metadata": {},
   "outputs": [],
   "source": []
  }
 ],
 "metadata": {
  "kernelspec": {
   "display_name": "carvenv",
   "language": "python",
   "name": "carvenv"
  },
  "language_info": {
   "codemirror_mode": {
    "name": "ipython",
    "version": 3
   },
   "file_extension": ".py",
   "mimetype": "text/x-python",
   "name": "python",
   "nbconvert_exporter": "python",
   "pygments_lexer": "ipython3",
   "version": "3.7.2-final"
  }
 },
 "nbformat": 4,
 "nbformat_minor": 4
}